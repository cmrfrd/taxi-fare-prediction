{
 "cells": [
  {
   "cell_type": "code",
   "execution_count": 1,
   "metadata": {},
   "outputs": [],
   "source": [
    "### Function that takes in a dataframe, removes outliers, problably normalize and scale data\n",
    "# Functions are set up in such a way where we should be able to batch pre-process the data without reading in the entire data set at once"
   ]
  },
  {
   "cell_type": "code",
   "execution_count": 2,
   "metadata": {},
   "outputs": [],
   "source": [
    "import pandas as pd\n",
    "import numpy as np"
   ]
  },
  {
   "cell_type": "code",
   "execution_count": 3,
   "metadata": {},
   "outputs": [],
   "source": [
    "# Set types\n",
    "# https://gis.stackexchange.com/questions/8650/measuring-accuracy-of-latitude-and-longitude/8674#8674\n",
    "# Floats have 7 decimal digits of precision, doubles 15. You only need around 7 for lat and long \n",
    "types_dict = {\n",
    "        \"fare_amount\": np.float16,\n",
    "        \"pickup_longitude\": np.float32, \n",
    "        \"pickup_latitude\": np.float32, \n",
    "        \"dropoff_longitude\": np.float32, \n",
    "        \"dropoff_latitude\": np.float32, \n",
    "        \"passenger_count\": np.int8,\n",
    "        \"pickup_datetime\": np.int8,\n",
    "}"
   ]
  },
  {
   "cell_type": "code",
   "execution_count": 4,
   "metadata": {},
   "outputs": [],
   "source": [
    "def _remove_outliers(df):\n",
    "    \"\"\"Takes in an unprocessed df and returns a df that has outliers removed\"\"\"\n",
    "    ## Remove obvious outliers first\n",
    "    # where lat/long == 0\n",
    "    df = df.drop(df.index[df['pickup_longitude'] == 0])\n",
    "    df = df.drop(df.index[df['dropoff_longitude'] == 0])\n",
    "    # Where fares < 0, becuase that makes no sense\n",
    "    df = df.drop(df.index[df['fare_amount'] < 0])\n",
    "    # Realistically, if we want to keep the trips within manhattan, pickup long should be between -72 and -75 and lat between 40 and 42\n",
    "    # as everything else is an extreme outlier\n",
    "    df = df.drop(df.index[df['pickup_longitude'] > -72])\n",
    "    df = df.drop(df.index[df['pickup_longitude'] < -75])\n",
    "    df = df.drop(df.index[df['pickup_latitude'] > 42])\n",
    "    df = df.drop(df.index[df['pickup_latitude'] < 40])\n",
    "    # Visualizations show the same thing with dropof longs and lats\n",
    "    df = df.drop(df.index[df['dropoff_longitude'] > -72])\n",
    "    df = df.drop(df.index[df['dropoff_longitude'] < -75])\n",
    "    df = df.drop(df.index[df['dropoff_latitude'] > 42])\n",
    "    df = df.drop(df.index[df['dropoff_latitude'] < 40])\n",
    "    return df\n",
    "\n",
    "# we're assuming that a df of the right types is being passed in\n",
    "def preprocess(df,types=types_dict):\n",
    "    \"\"\"Takes in an unprocessed df and returns a df that has outliers removed and is preprocessed\"\"\"\n",
    "    # Drop NA values\n",
    "#     df = df.replace([np.inf, -np.inf], np.nan)\n",
    "    df = df.dropna()\n",
    "#     df = df.drop()\n",
    "    # Remove obvious outliers first\n",
    "    df = _remove_outliers(df)\n",
    "    # Key isnt useful\n",
    "    del df[\"key\"]\n",
    "    # Currently giving categorial numbers, but something like onehotencoding might work better\n",
    "    df[\"pickup_datetime\"] = df[\"pickup_datetime\"].apply(lambda d:int(d[10:13]))\n",
    "    # Set types as we batch read in\n",
    "    for name, t in types_dict.items():\n",
    "        df[name] = df[name].astype(t)\n",
    "    # TODO - Scale data. Requires us to find min and max of entire dataset, not sure how to proceed since we're batching\n",
    "    # TODO - Normalize data, same issues as above and batching.\n",
    "    # TODO - Possibly PCA, but seems like all of the features we get should be relevant to the task at hand\n",
    "    return df"
   ]
  },
  {
   "cell_type": "code",
   "execution_count": 5,
   "metadata": {},
   "outputs": [
    {
     "name": "stderr",
     "output_type": "stream",
     "text": [
      "56it [08:58, 12.64s/it]\n"
     ]
    },
    {
     "name": "stdout",
     "output_type": "stream",
     "text": [
      "Entire dataset fits in 1.52 GB\n",
      "Number of rows: 54255094\n"
     ]
    }
   ],
   "source": [
    "## Load clean data in to dataframe\n",
    "\n",
    "chunksize = 10 ** 6\n",
    "filename = \"../data/train.csv\"\n",
    "\n",
    "dataset_df = pd.DataFrame()  # main dataset\n",
    "\n",
    "from tqdm import tqdm\n",
    "# Pretty progress bar\n",
    "pbar = tqdm(total=len(range(54)))\n",
    "for index, df_chunk in enumerate(pd.read_csv(filename, chunksize=chunksize)):\n",
    "    pbar.update(1)\n",
    "    dataset_df = pd.concat([dataset_df, preprocess(df_chunk)])\n",
    "pbar.close()\n",
    "\n",
    "size_bytes = dataset_df.memory_usage(deep=True).sum()\n",
    "print(\"Entire dataset fits in {:.2f} GB\".format(size_bytes/1e+9))\n",
    "print(\"Number of rows: {}\".format(dataset_df.count()[0]))"
   ]
  },
  {
   "cell_type": "markdown",
   "metadata": {},
   "source": [
    "## Data Loaded"
   ]
  },
  {
   "cell_type": "code",
   "execution_count": 6,
   "metadata": {},
   "outputs": [
    {
     "name": "stdout",
     "output_type": "stream",
     "text": [
      "Requirement already satisfied: sklearn in /home/jovyan/.conda/envs/jovyan/lib/python3.6/site-packages (0.0)\n",
      "Requirement already satisfied: scikit-learn in /home/jovyan/.conda/envs/jovyan/lib/python3.6/site-packages (from sklearn) (0.20.0)\n",
      "Requirement already satisfied: scipy>=0.13.3 in /home/jovyan/.conda/envs/jovyan/lib/python3.6/site-packages (from scikit-learn->sklearn) (1.1.0)\n",
      "Requirement already satisfied: numpy>=1.8.2 in /home/jovyan/.conda/envs/jovyan/lib/python3.6/site-packages (from scikit-learn->sklearn) (1.15.2)\n"
     ]
    }
   ],
   "source": [
    "!pip install sklearn"
   ]
  },
  {
   "cell_type": "code",
   "execution_count": 8,
   "metadata": {},
   "outputs": [],
   "source": [
    "# from scipy.cluster.vq import vq, kmeans, whiten"
   ]
  },
  {
   "cell_type": "code",
   "execution_count": 12,
   "metadata": {},
   "outputs": [],
   "source": [
    "# kmeans()"
   ]
  },
  {
   "cell_type": "code",
   "execution_count": 13,
   "metadata": {},
   "outputs": [],
   "source": [
    "# import sklearn"
   ]
  },
  {
   "cell_type": "code",
   "execution_count": 9,
   "metadata": {},
   "outputs": [],
   "source": [
    "from sklearn.cluster import KMeans"
   ]
  },
  {
   "cell_type": "code",
   "execution_count": 18,
   "metadata": {},
   "outputs": [
    {
     "data": {
      "text/plain": [
       "sklearn.cluster.k_means_.KMeans"
      ]
     },
     "execution_count": 18,
     "metadata": {},
     "output_type": "execute_result"
    }
   ],
   "source": [
    "KMeans"
   ]
  },
  {
   "cell_type": "code",
   "execution_count": 21,
   "metadata": {},
   "outputs": [],
   "source": [
    "# kmeans = KMeans(n_clusters=2, random_state=0).fit(dataset_df)"
   ]
  },
  {
   "cell_type": "code",
   "execution_count": 22,
   "metadata": {},
   "outputs": [
    {
     "name": "stdout",
     "output_type": "stream",
     "text": [
      "test\n"
     ]
    }
   ],
   "source": [
    "# print(\"test\")"
   ]
  },
  {
   "cell_type": "code",
   "execution_count": 14,
   "metadata": {},
   "outputs": [],
   "source": [
    "data = dataset_df.iloc[:100000]"
   ]
  },
  {
   "cell_type": "code",
   "execution_count": 15,
   "metadata": {},
   "outputs": [],
   "source": [
    "kmeans = KMeans(n_clusters=2, random_state=0).fit(data)"
   ]
  },
  {
   "cell_type": "code",
   "execution_count": 16,
   "metadata": {},
   "outputs": [
    {
     "data": {
      "text/plain": [
       "array([0, 0, 0, ..., 0, 0, 0], dtype=int32)"
      ]
     },
     "execution_count": 16,
     "metadata": {},
     "output_type": "execute_result"
    }
   ],
   "source": [
    "kmeans.predict(dataset_df.iloc[:100000], sample_weight=None)"
   ]
  },
  {
   "cell_type": "code",
   "execution_count": null,
   "metadata": {},
   "outputs": [],
   "source": []
  },
  {
   "cell_type": "code",
   "execution_count": null,
   "metadata": {},
   "outputs": [],
   "source": []
  }
 ],
 "metadata": {
  "kernelspec": {
   "display_name": "Python 3",
   "language": "python",
   "name": "python3"
  },
  "language_info": {
   "codemirror_mode": {
    "name": "ipython",
    "version": 3
   },
   "file_extension": ".py",
   "mimetype": "text/x-python",
   "name": "python",
   "nbconvert_exporter": "python",
   "pygments_lexer": "ipython3",
   "version": "3.6.6"
  }
 },
 "nbformat": 4,
 "nbformat_minor": 2
}

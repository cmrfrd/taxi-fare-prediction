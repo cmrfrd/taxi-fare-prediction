{
 "cells": [
  {
   "cell_type": "code",
   "execution_count": null,
   "metadata": {},
   "outputs": [],
   "source": [
    "### Function that takes in a dataframe, removes outliers, problably normalize and scale data\n",
    "# Functions are set up in such a way where we should be able to batch pre-process the data without reading in the entire data set at once"
   ]
  },
  {
   "cell_type": "code",
   "execution_count": null,
   "metadata": {},
   "outputs": [],
   "source": [
    "import pandas as pd\n",
    "import numpy as np"
   ]
  },
  {
   "cell_type": "code",
   "execution_count": null,
   "metadata": {},
   "outputs": [],
   "source": [
    "# Set types if reading in\n",
    "types = {\"fare_amount\": np.float16,\n",
    "        \"pickup_longitude\": np.float32, \n",
    "        \"pickup_latitude\": np.float32, \n",
    "        \"dropoff_longitude\": np.float32, \n",
    "        \"dropoff_latitude\": np.float32, \n",
    "        \"passenger_count\": np.int8}\n",
    "\n",
    "# test = pd.read_csv(\"~/work/data/test.csv\", dtype=types, parse_dates=[\"pickup_datetime\"])\n",
    "# nrows limits the number of rows from the training set please remove to get the full dataset\n",
    "# train = pd.read_csv(\"~/work/data/train.csv\", dtype=types, parse_dates=[\"pickup_datetime\"], nrows=100000)"
   ]
  },
  {
   "cell_type": "code",
   "execution_count": null,
   "metadata": {},
   "outputs": [],
   "source": [
    "def remove_outliers(df):\n",
    "    \"\"\"Takes in an unprocessed df and returns a df that has outliers removed\"\"\"\n",
    "    ## Remove obvious outliers first\n",
    "    # where lat/long == 0\n",
    "    df = df.drop(df.index[df['pickup_longitude'] == 0])\n",
    "    df = df.drop(df.index[df['dropoff_longitude'] == 0])\n",
    "    # Where fares < 0, becuase that makes no sense\n",
    "    df = df.drop(df.index[df['fare_amount'] < 0])\n",
    "    # Realistically, if we want to keep the trips within manhattan, pickup long should be between -72 and -75 and lat between 40 and 42\n",
    "    # as everything else is an extreme outlier\n",
    "    df = df.drop(df.index[df['pickup_longitude'] > -72])\n",
    "    df = df.drop(df.index[df['pickup_longitude'] < -75])\n",
    "    df = df.drop(df.index[df['pickup_latitude'] > 42])\n",
    "    df = df.drop(df.index[df['pickup_latitude'] < 40])\n",
    "    # Visualizations show the same thing with dropof longs and lats\n",
    "    df = df.drop(df.index[df['dropoff_longitude'] > -72])\n",
    "    df = df.drop(df.index[df['dropoff_longitude'] < -75])\n",
    "    df = df.drop(df.index[df['dropoff_latitude'] > 42])\n",
    "    df = df.drop(df.index[df['dropoff_latitude'] < 40])\n",
    "    return df"
   ]
  },
  {
   "cell_type": "code",
   "execution_count": null,
   "metadata": {},
   "outputs": [],
   "source": [
    "# we're assuming that a df of the right types is being passed in\n",
    "def preprocess(df):\n",
    "    \"\"\"Takes in an unprocessed df and returns a df that has outliers removed and is preprocessed\"\"\"\n",
    "    ## Remove obvious outliers first\n",
    "    # where lat/long == 0\n",
    "    df = remove_outliers(df)\n",
    "    # TODO - Scale data. Requires us to find min and max of entire dataset, not sure how to proceed since we're batching\n",
    "    # TODO - Normalize data, same issues as above and batching.\n",
    "    # TODO - Possibly PCA, but seems like all of the features we get should be relevant to the task at hand\n",
    "    return df"
   ]
  }
 ],
 "metadata": {
  "kernelspec": {
   "display_name": "Python 3",
   "language": "python",
   "name": "python3"
  },
  "language_info": {
   "codemirror_mode": {
    "name": "ipython",
    "version": 3
   },
   "file_extension": ".py",
   "mimetype": "text/x-python",
   "name": "python",
   "nbconvert_exporter": "python",
   "pygments_lexer": "ipython3",
   "version": "3.6.5"
  }
 },
 "nbformat": 4,
 "nbformat_minor": 2
}

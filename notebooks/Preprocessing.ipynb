{
 "cells": [
  {
   "cell_type": "code",
   "execution_count": 1,
   "metadata": {},
   "outputs": [],
   "source": [
    "### Function that takes in a dataframe, removes outliers, problably normalize and scale data\n",
    "# Functions are set up in such a way where we should be able to batch pre-process the data without reading in the entire data set at once"
   ]
  },
  {
   "cell_type": "code",
   "execution_count": 2,
   "metadata": {},
   "outputs": [],
   "source": [
    "import pandas as pd\n",
    "import numpy as np"
   ]
  },
  {
   "cell_type": "code",
   "execution_count": 3,
   "metadata": {},
   "outputs": [],
   "source": [
    "# Set types\n",
    "types_dict = {\n",
    "        \"fare_amount\": np.float16,\n",
    "        \"pickup_longitude\": np.float32, \n",
    "        \"pickup_latitude\": np.float32, \n",
    "        \"dropoff_longitude\": np.float32, \n",
    "        \"dropoff_latitude\": np.float32, \n",
    "        \"passenger_count\": np.int8,\n",
    "        \"pickup_datetime\": np.int8,\n",
    "}\n"
   ]
  },
  {
   "cell_type": "code",
   "execution_count": 4,
   "metadata": {},
   "outputs": [],
   "source": [
    "def _remove_outliers(df):\n",
    "    \"\"\"Takes in an unprocessed df and returns a df that has outliers removed\"\"\"\n",
    "    ## Remove obvious outliers first\n",
    "    # where lat/long == 0\n",
    "    df = df.drop(df.index[df['pickup_longitude'] == 0])\n",
    "    df = df.drop(df.index[df['dropoff_longitude'] == 0])\n",
    "    # Where fares < 0, becuase that makes no sense\n",
    "    df = df.drop(df.index[df['fare_amount'] < 0])\n",
    "    # Realistically, if we want to keep the trips within manhattan, pickup long should be between -72 and -75 and lat between 40 and 42\n",
    "    # as everything else is an extreme outlier\n",
    "    df = df.drop(df.index[df['pickup_longitude'] > -72])\n",
    "    df = df.drop(df.index[df['pickup_longitude'] < -75])\n",
    "    df = df.drop(df.index[df['pickup_latitude'] > 42])\n",
    "    df = df.drop(df.index[df['pickup_latitude'] < 40])\n",
    "    # Visualizations show the same thing with dropof longs and lats\n",
    "    df = df.drop(df.index[df['dropoff_longitude'] > -72])\n",
    "    df = df.drop(df.index[df['dropoff_longitude'] < -75])\n",
    "    df = df.drop(df.index[df['dropoff_latitude'] > 42])\n",
    "    df = df.drop(df.index[df['dropoff_latitude'] < 40])\n",
    "    return df"
   ]
  },
  {
   "cell_type": "code",
   "execution_count": 19,
   "metadata": {},
   "outputs": [],
   "source": [
    "# we're assuming that a df of the right types is being passed in\n",
    "def preprocess(df,types=types_dict):\n",
    "    \"\"\"Takes in an unprocessed df and returns a df that has outliers removed and is preprocessed\"\"\"\n",
    "    # Drop NA values\n",
    "    df = df.dropna()\n",
    "    # Remove obvious outliers first\n",
    "    df = _remove_outliers(df)\n",
    "    # Key isnt useful\n",
    "    del df[\"key\"]\n",
    "    # Currently giving categorial numbers, but something like onehotencoding might work better\n",
    "    df[\"pickup_datetime\"] = df[\"pickup_datetime\"].apply(lambda d:int(d[10:13]))\n",
    "    # Set types as we batch read in\n",
    "    for name, t in types_dict.items():\n",
    "        df[name] = df[name].astype(t)\n",
    "    # TODO - Scale data. Requires us to find min and max of entire dataset, not sure how to proceed since we're batching\n",
    "    # TODO - Normalize data, same issues as above and batching.\n",
    "    # TODO - Possibly PCA, but seems like all of the features we get should be relevant to the task at hand\n",
    "    return df"
   ]
  },
  {
   "cell_type": "code",
   "execution_count": 20,
   "metadata": {},
   "outputs": [
    {
     "name": "stdout",
     "output_type": "stream",
     "text": [
      "<class 'pandas.core.frame.DataFrame'>\n",
      "Int64Index: 13352973 entries, 0 to 13640821\n",
      "Data columns (total 7 columns):\n",
      "fare_amount          float16\n",
      "pickup_datetime      int8\n",
      "pickup_longitude     float32\n",
      "pickup_latitude      float32\n",
      "dropoff_longitude    float32\n",
      "dropoff_latitude     float32\n",
      "passenger_count      int8\n",
      "dtypes: float16(1), float32(4), int8(2)\n",
      "memory usage: 356.6 MB\n",
      "None\n"
     ]
    }
   ],
   "source": [
    "### test functions\n",
    "# double check number of rows by just loading in first col quickly: 13640823\n",
    "# dataset_df = pd.read_csv(\"../data/train.csv\", usecols=['fare_amount'], dtype={\"fare_amount\": np.float16})\n",
    "# https://www.dataquest.io/blog/pandas-big-data/\n",
    "# cleaned_dataset_df = preprocess(dataset_df)\n",
    "# print(dataset_df.info(memory_usage='deep'))\n",
    "# print(cleaned_dataset_df.info(memory_usage='deep'))\n",
    "# print(cleaned_dataset_df.dtypes)\n",
    "# print(cleaned_dataset_df.head())\n",
    "chunksize = 10 ** 6\n",
    "filename = \"../data/train.csv\"\n",
    "df_chunk_list = []\n",
    "for df_chunk in pd.read_csv(filename, chunksize=chunksize):\n",
    "    df_chunk_list.append(preprocess(df_chunk))\n",
    "    \n",
    "dataset_df = pd.concat(df_chunk_list)\n",
    "print(dataset_df.info(memory_usage='deep'))"
   ]
  },
  {
   "cell_type": "code",
   "execution_count": 21,
   "metadata": {},
   "outputs": [
    {
     "name": "stdout",
     "output_type": "stream",
     "text": [
      "13352973\n",
      "13352973\n"
     ]
    }
   ],
   "source": [
    "# Num rows af\n",
    "print(len(dataset_df.index))"
   ]
  }
 ],
 "metadata": {
  "kernelspec": {
   "display_name": "Python 3",
   "language": "python",
   "name": "python3"
  },
  "language_info": {
   "codemirror_mode": {
    "name": "ipython",
    "version": 3
   },
   "file_extension": ".py",
   "mimetype": "text/x-python",
   "name": "python",
   "nbconvert_exporter": "python",
   "pygments_lexer": "ipython3",
   "version": "3.6.5"
  }
 },
 "nbformat": 4,
 "nbformat_minor": 2
}

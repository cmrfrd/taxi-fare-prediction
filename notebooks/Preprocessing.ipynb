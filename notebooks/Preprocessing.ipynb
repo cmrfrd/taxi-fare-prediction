{
 "cells": [
  {
   "cell_type": "code",
   "execution_count": 1,
   "metadata": {},
   "outputs": [],
   "source": [
    "### Function that takes in a dataframe, removes outliers, problably normalize and scale data\n",
    "# Functions are set up in such a way where we should be able to batch pre-process the data without reading in the entire data set at once"
   ]
  },
  {
   "cell_type": "code",
   "execution_count": 2,
   "metadata": {},
   "outputs": [],
   "source": [
    "import pandas as pd\n",
    "import numpy as np"
   ]
  },
  {
   "cell_type": "code",
   "execution_count": 3,
   "metadata": {},
   "outputs": [],
   "source": [
    "# Set types\n",
    "# https://gis.stackexchange.com/questions/8650/measuring-accuracy-of-latitude-and-longitude/8674#8674\n",
    "# Floats have 7 decimal digits of precision, doubles 15. You only need around 7 for lat and long \n",
    "types_dict = {\n",
    "        \"fare_amount\": np.float16,\n",
    "        \"pickup_longitude\": np.float32, \n",
    "        \"pickup_latitude\": np.float32, \n",
    "        \"dropoff_longitude\": np.float32, \n",
    "        \"dropoff_latitude\": np.float32, \n",
    "        \"passenger_count\": np.int8,\n",
    "        \"pickup_datetime\": np.int8,\n",
    "}"
   ]
  },
  {
   "cell_type": "code",
   "execution_count": 4,
   "metadata": {},
   "outputs": [],
   "source": [
    "def _remove_outliers(df):\n",
    "    \"\"\"Takes in an unprocessed df and returns a df that has outliers removed\"\"\"\n",
    "    ## Remove obvious outliers first\n",
    "    # where lat/long == 0\n",
    "    df = df.drop(df.index[df['pickup_longitude'] == 0])\n",
    "    df = df.drop(df.index[df['dropoff_longitude'] == 0])\n",
    "    # Where fares < 0, becuase that makes no sense\n",
    "    df = df.drop(df.index[df['fare_amount'] < 0])\n",
    "    # Realistically, if we want to keep the trips within manhattan, pickup long should be between -72 and -75 and lat between 40 and 42\n",
    "    # as everything else is an extreme outlier\n",
    "    df = df.drop(df.index[df['pickup_longitude'] > -72])\n",
    "    df = df.drop(df.index[df['pickup_longitude'] < -75])\n",
    "    df = df.drop(df.index[df['pickup_latitude'] > 42])\n",
    "    df = df.drop(df.index[df['pickup_latitude'] < 40])\n",
    "    # Visualizations show the same thing with dropof longs and lats\n",
    "    df = df.drop(df.index[df['dropoff_longitude'] > -72])\n",
    "    df = df.drop(df.index[df['dropoff_longitude'] < -75])\n",
    "    df = df.drop(df.index[df['dropoff_latitude'] > 42])\n",
    "    df = df.drop(df.index[df['dropoff_latitude'] < 40])\n",
    "    return df"
   ]
  },
  {
   "cell_type": "code",
   "execution_count": 5,
   "metadata": {},
   "outputs": [],
   "source": [
    "# we're assuming that a df of the right types is being passed in\n",
    "def preprocess(df,types=types_dict):\n",
    "    \"\"\"Takes in an unprocessed df and returns a df that has outliers removed and is preprocessed\"\"\"\n",
    "    # Drop NA values\n",
    "    df = df.dropna()\n",
    "    # Remove obvious outliers first\n",
    "    df = _remove_outliers(df)\n",
    "    # Key isnt useful\n",
    "    del df[\"key\"]\n",
    "    # Currently giving categorial numbers, but something like onehotencoding might work better\n",
    "    df[\"pickup_datetime\"] = df[\"pickup_datetime\"].apply(lambda d:int(d[10:13]))\n",
    "    # Set types as we batch read in\n",
    "    for name, t in types_dict.items():\n",
    "        df[name] = df[name].astype(t)\n",
    "    # TODO - Scale data. Requires us to find min and max of entire dataset, not sure how to proceed since we're batching\n",
    "    # TODO - Normalize data, same issues as above and batching.\n",
    "    # TODO - Possibly PCA, but seems like all of the features we get should be relevant to the task at hand\n",
    "    return df"
   ]
  },
  {
   "cell_type": "code",
   "execution_count": 6,
   "metadata": {},
   "outputs": [
    {
     "name": "stderr",
     "output_type": "stream",
     "text": [
      "100%|██████████| 54/54 [02:33<00:00,  2.99s/it]\n"
     ]
    },
    {
     "name": "stdout",
     "output_type": "stream",
     "text": [
      "Entire dataset fits in 1.48 GB\n",
      "Number of rows: 52756015\n"
     ]
    }
   ],
   "source": [
    "### test functions\n",
    "chunksize = 10 ** 6\n",
    "filename = \"../data/train.csv\"\n",
    "\n",
    "dataset_df = pd.DataFrame()  # main dataset\n",
    "\n",
    "from tqdm import tqdm\n",
    "# Pretty progress bar\n",
    "pbar = tqdm(total=len(range(54)))       \n",
    "for index, df_chunk in enumerate(pd.read_csv(filename, chunksize=chunksize)):\n",
    "    pbar.update(1)\n",
    "    dataset_df = pd.concat([dataset_df, preprocess(df_chunk)])\n",
    "pbar.close()\n",
    "\n",
    "size_bytes = dataset_df.memory_usage(deep=True).sum()\n",
    "print(\"Entire dataset fits in {:.2f} GB\".format(size_bytes/1e+9))\n",
    "print(\"Number of rows: {}\".format(dataset_df.count()[0]))"
   ]
  },
  {
   "cell_type": "code",
   "execution_count": 7,
   "metadata": {},
   "outputs": [],
   "source": [
    "fares = dataset_df[\"fare_amount\"]\n",
    "del dataset_df[\"fare_amount\"]\n",
    "from sklearn.externals import joblib"
   ]
  },
  {
   "cell_type": "code",
   "execution_count": 8,
   "metadata": {},
   "outputs": [
    {
     "data": {
      "text/html": [
       "<div>\n",
       "<style scoped>\n",
       "    .dataframe tbody tr th:only-of-type {\n",
       "        vertical-align: middle;\n",
       "    }\n",
       "\n",
       "    .dataframe tbody tr th {\n",
       "        vertical-align: top;\n",
       "    }\n",
       "\n",
       "    .dataframe thead th {\n",
       "        text-align: right;\n",
       "    }\n",
       "</style>\n",
       "<table border=\"1\" class=\"dataframe\">\n",
       "  <thead>\n",
       "    <tr style=\"text-align: right;\">\n",
       "      <th></th>\n",
       "      <th>pickup_datetime</th>\n",
       "      <th>pickup_longitude</th>\n",
       "      <th>pickup_latitude</th>\n",
       "      <th>dropoff_longitude</th>\n",
       "      <th>dropoff_latitude</th>\n",
       "      <th>passenger_count</th>\n",
       "    </tr>\n",
       "  </thead>\n",
       "  <tbody>\n",
       "    <tr>\n",
       "      <th>0</th>\n",
       "      <td>17</td>\n",
       "      <td>-73.844315</td>\n",
       "      <td>40.721317</td>\n",
       "      <td>-73.841614</td>\n",
       "      <td>40.712276</td>\n",
       "      <td>1</td>\n",
       "    </tr>\n",
       "    <tr>\n",
       "      <th>1</th>\n",
       "      <td>16</td>\n",
       "      <td>-74.016045</td>\n",
       "      <td>40.711304</td>\n",
       "      <td>-73.979271</td>\n",
       "      <td>40.782005</td>\n",
       "      <td>1</td>\n",
       "    </tr>\n",
       "    <tr>\n",
       "      <th>2</th>\n",
       "      <td>0</td>\n",
       "      <td>-73.982735</td>\n",
       "      <td>40.761269</td>\n",
       "      <td>-73.991241</td>\n",
       "      <td>40.750561</td>\n",
       "      <td>2</td>\n",
       "    </tr>\n",
       "    <tr>\n",
       "      <th>3</th>\n",
       "      <td>4</td>\n",
       "      <td>-73.987129</td>\n",
       "      <td>40.733143</td>\n",
       "      <td>-73.991570</td>\n",
       "      <td>40.758091</td>\n",
       "      <td>1</td>\n",
       "    </tr>\n",
       "    <tr>\n",
       "      <th>4</th>\n",
       "      <td>7</td>\n",
       "      <td>-73.968094</td>\n",
       "      <td>40.768009</td>\n",
       "      <td>-73.956657</td>\n",
       "      <td>40.783764</td>\n",
       "      <td>1</td>\n",
       "    </tr>\n",
       "  </tbody>\n",
       "</table>\n",
       "</div>"
      ],
      "text/plain": [
       "   pickup_datetime  pickup_longitude  pickup_latitude  dropoff_longitude  \\\n",
       "0               17        -73.844315        40.721317         -73.841614   \n",
       "1               16        -74.016045        40.711304         -73.979271   \n",
       "2                0        -73.982735        40.761269         -73.991241   \n",
       "3                4        -73.987129        40.733143         -73.991570   \n",
       "4                7        -73.968094        40.768009         -73.956657   \n",
       "\n",
       "   dropoff_latitude  passenger_count  \n",
       "0         40.712276                1  \n",
       "1         40.782005                1  \n",
       "2         40.750561                2  \n",
       "3         40.758091                1  \n",
       "4         40.783764                1  "
      ]
     },
     "execution_count": 8,
     "metadata": {},
     "output_type": "execute_result"
    }
   ],
   "source": [
    "dataset_df.head()"
   ]
  },
  {
   "cell_type": "code",
   "execution_count": 9,
   "metadata": {},
   "outputs": [
    {
     "name": "stderr",
     "output_type": "stream",
     "text": [
      "/home/jovyan/.conda/envs/jovyan/lib/python3.6/site-packages/sklearn/preprocessing/data.py:323: DataConversionWarning: Data with input dtype int8, float32 were all converted to float64 by MinMaxScaler.\n",
      "  return self.partial_fit(X, y)\n"
     ]
    }
   ],
   "source": [
    "from sklearn.preprocessing import MinMaxScaler\n",
    "scaler = MinMaxScaler().fit(dataset_df)\n",
    "# then on new data call scaler.transform(data) to scale\n",
    "joblib.dump(scaler, '../models/minmaxscaler.joblib') \n",
    "del scaler"
   ]
  },
  {
   "cell_type": "code",
   "execution_count": 10,
   "metadata": {},
   "outputs": [],
   "source": [
    "#  We need to normalize on scaled data I think, but I cant fit the scaled df into memory along with the original df\n",
    "from sklearn.preprocessing import Normalizer\n",
    "normalizer = Normalizer().fit(dataset_df)\n",
    "joblib.dump(normalizer, '../models/normalizer.joblib') \n",
    "del normalizer"
   ]
  },
  {
   "cell_type": "code",
   "execution_count": null,
   "metadata": {},
   "outputs": [],
   "source": []
  }
 ],
 "metadata": {
  "kernelspec": {
   "display_name": "Python 3",
   "language": "python",
   "name": "python3"
  },
  "language_info": {
   "codemirror_mode": {
    "name": "ipython",
    "version": 3
   },
   "file_extension": ".py",
   "mimetype": "text/x-python",
   "name": "python",
   "nbconvert_exporter": "python",
   "pygments_lexer": "ipython3",
   "version": "3.6.6"
  }
 },
 "nbformat": 4,
 "nbformat_minor": 2
}

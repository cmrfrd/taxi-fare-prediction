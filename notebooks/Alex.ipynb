{
 "cells": [
  {
   "cell_type": "code",
   "execution_count": 1,
   "metadata": {},
   "outputs": [
    {
     "name": "stdout",
     "output_type": "stream",
     "text": [
      "Hello!\n"
     ]
    }
   ],
   "source": [
    "print (\"Hello!\")"
   ]
  },
  {
   "cell_type": "markdown",
   "metadata": {},
   "source": [
    "## Install kaggle credentials\n",
    "\n",
    "Details taken from [here](https://github.com/Kaggle/kaggle-api)\n",
    "\n",
    "How to setup the `kaggle` command and install the dataset. If you already have the data downloaded you can skip this step\n",
    "\n",
    "1. Go to `https://www.kaggle.com/<username>/account`\n",
    "2. Download your credentials 'kaggle.json' in the `notebooks/` directory of this repo on your host machine\n",
    "example:\n",
    "`/home/comerford/Public/repos/taxi-fare-prediction/notebooks`\n",
    "\n",
    "continue running the cells"
   ]
  },
  {
   "cell_type": "code",
   "execution_count": 15,
   "metadata": {},
   "outputs": [
    {
     "name": "stdout",
     "output_type": "stream",
     "text": [
      "env: KAGGLE_CONFIG_DIR=/home/jovyan/work/notebooks/\n"
     ]
    }
   ],
   "source": [
    "%env KAGGLE_CONFIG_DIR=/home/jovyan/work/notebooks/"
   ]
  },
  {
   "cell_type": "code",
   "execution_count": null,
   "metadata": {},
   "outputs": [],
   "source": [
    "%%bash\n",
    "kaggle competitions download -c new-york-city-taxi-fare-prediction"
   ]
  },
  {
   "cell_type": "code",
   "execution_count": null,
   "metadata": {},
   "outputs": [],
   "source": []
  }
 ],
 "metadata": {
  "kernelspec": {
   "display_name": "Python 3",
   "language": "python",
   "name": "python3"
  },
  "language_info": {
   "codemirror_mode": {
    "name": "ipython",
    "version": 3
   },
   "file_extension": ".py",
   "mimetype": "text/x-python",
   "name": "python",
   "nbconvert_exporter": "python",
   "pygments_lexer": "ipython3",
   "version": "3.6.3"
  }
 },
 "nbformat": 4,
 "nbformat_minor": 2
}
